{
 "cells": [
  {
   "cell_type": "markdown",
   "id": "e28fedf5",
   "metadata": {},
   "source": [
    "# 1.What kind of libraries did you use?"
   ]
  },
  {
   "cell_type": "code",
   "execution_count": 2,
   "id": "c2790935",
   "metadata": {},
   "outputs": [],
   "source": [
    "import numpy as np\n",
    "import pandas as pd\n",
    "import csv\n",
    "from datetime import datetime\n",
    "import matplotlib.pyplot as plt\n",
    "%matplotlib inline\n",
    "import warnings"
   ]
  },
  {
   "cell_type": "code",
   "execution_count": 3,
   "id": "ab6de98f",
   "metadata": {},
   "outputs": [],
   "source": [
    "path =  'D:/Assignments/Big Data Processing/assignments/assignment_3_crime/archive/Chicago_Crimes_2012_to_2017.csv'"
   ]
  },
  {
   "cell_type": "code",
   "execution_count": 4,
   "id": "9ca8bdb7",
   "metadata": {},
   "outputs": [],
   "source": [
    "df = pd.read_csv(path)"
   ]
  },
  {
   "cell_type": "code",
   "execution_count": 5,
   "id": "47a3b11d",
   "metadata": {},
   "outputs": [
    {
     "data": {
      "text/plain": [
       "(1456714, 15)"
      ]
     },
     "execution_count": 5,
     "metadata": {},
     "output_type": "execute_result"
    }
   ],
   "source": [
    "data_new= df.loc[:,['ID','Date','Block','IUCR','Primary Type','Description','Location Description','Arrest',\n",
    "                      'Domestic','Beat','District','FBI Code','Ward','Community Area','Location']]\n",
    "data_new.shape"
   ]
  },
  {
   "cell_type": "markdown",
   "id": "2765a980",
   "metadata": {},
   "source": [
    "# 2.What kind of attributes are there?"
   ]
  },
  {
   "cell_type": "code",
   "execution_count": 5,
   "id": "a680764a",
   "metadata": {},
   "outputs": [
    {
     "name": "stdout",
     "output_type": "stream",
     "text": [
      "Index(['Unnamed: 0', 'ID', 'Case Number', 'Date', 'Block', 'IUCR',\n",
      "       'Primary Type', 'Description', 'Location Description', 'Arrest',\n",
      "       'Domestic', 'Beat', 'District', 'Ward', 'Community Area', 'FBI Code',\n",
      "       'X Coordinate', 'Y Coordinate', 'Year', 'Updated On', 'Latitude',\n",
      "       'Longitude', 'Location'],\n",
      "      dtype='object')\n"
     ]
    }
   ],
   "source": [
    "print(df.columns)"
   ]
  },
  {
   "cell_type": "markdown",
   "id": "8770f06b",
   "metadata": {},
   "source": [
    "# 3. Is there missing values? If yes, how did you deal with those values?"
   ]
  },
  {
   "cell_type": "code",
   "execution_count": 6,
   "id": "9d1f068a",
   "metadata": {},
   "outputs": [
    {
     "data": {
      "text/html": [
       "<div>\n",
       "<style scoped>\n",
       "    .dataframe tbody tr th:only-of-type {\n",
       "        vertical-align: middle;\n",
       "    }\n",
       "\n",
       "    .dataframe tbody tr th {\n",
       "        vertical-align: top;\n",
       "    }\n",
       "\n",
       "    .dataframe thead th {\n",
       "        text-align: right;\n",
       "    }\n",
       "</style>\n",
       "<table border=\"1\" class=\"dataframe\">\n",
       "  <thead>\n",
       "    <tr style=\"text-align: right;\">\n",
       "      <th></th>\n",
       "      <th>Unnamed: 0</th>\n",
       "      <th>ID</th>\n",
       "      <th>Case Number</th>\n",
       "      <th>Date</th>\n",
       "      <th>Block</th>\n",
       "      <th>IUCR</th>\n",
       "      <th>Primary Type</th>\n",
       "      <th>Description</th>\n",
       "      <th>Location Description</th>\n",
       "      <th>Arrest</th>\n",
       "      <th>...</th>\n",
       "      <th>Ward</th>\n",
       "      <th>Community Area</th>\n",
       "      <th>FBI Code</th>\n",
       "      <th>X Coordinate</th>\n",
       "      <th>Y Coordinate</th>\n",
       "      <th>Year</th>\n",
       "      <th>Updated On</th>\n",
       "      <th>Latitude</th>\n",
       "      <th>Longitude</th>\n",
       "      <th>Location</th>\n",
       "    </tr>\n",
       "  </thead>\n",
       "  <tbody>\n",
       "    <tr>\n",
       "      <th>0</th>\n",
       "      <td>False</td>\n",
       "      <td>False</td>\n",
       "      <td>False</td>\n",
       "      <td>False</td>\n",
       "      <td>False</td>\n",
       "      <td>False</td>\n",
       "      <td>False</td>\n",
       "      <td>False</td>\n",
       "      <td>False</td>\n",
       "      <td>False</td>\n",
       "      <td>...</td>\n",
       "      <td>False</td>\n",
       "      <td>False</td>\n",
       "      <td>False</td>\n",
       "      <td>False</td>\n",
       "      <td>False</td>\n",
       "      <td>False</td>\n",
       "      <td>False</td>\n",
       "      <td>False</td>\n",
       "      <td>False</td>\n",
       "      <td>False</td>\n",
       "    </tr>\n",
       "    <tr>\n",
       "      <th>1</th>\n",
       "      <td>False</td>\n",
       "      <td>False</td>\n",
       "      <td>False</td>\n",
       "      <td>False</td>\n",
       "      <td>False</td>\n",
       "      <td>False</td>\n",
       "      <td>False</td>\n",
       "      <td>False</td>\n",
       "      <td>False</td>\n",
       "      <td>False</td>\n",
       "      <td>...</td>\n",
       "      <td>False</td>\n",
       "      <td>False</td>\n",
       "      <td>False</td>\n",
       "      <td>False</td>\n",
       "      <td>False</td>\n",
       "      <td>False</td>\n",
       "      <td>False</td>\n",
       "      <td>False</td>\n",
       "      <td>False</td>\n",
       "      <td>False</td>\n",
       "    </tr>\n",
       "    <tr>\n",
       "      <th>2</th>\n",
       "      <td>False</td>\n",
       "      <td>False</td>\n",
       "      <td>False</td>\n",
       "      <td>False</td>\n",
       "      <td>False</td>\n",
       "      <td>False</td>\n",
       "      <td>False</td>\n",
       "      <td>False</td>\n",
       "      <td>False</td>\n",
       "      <td>False</td>\n",
       "      <td>...</td>\n",
       "      <td>False</td>\n",
       "      <td>False</td>\n",
       "      <td>False</td>\n",
       "      <td>False</td>\n",
       "      <td>False</td>\n",
       "      <td>False</td>\n",
       "      <td>False</td>\n",
       "      <td>False</td>\n",
       "      <td>False</td>\n",
       "      <td>False</td>\n",
       "    </tr>\n",
       "    <tr>\n",
       "      <th>3</th>\n",
       "      <td>False</td>\n",
       "      <td>False</td>\n",
       "      <td>False</td>\n",
       "      <td>False</td>\n",
       "      <td>False</td>\n",
       "      <td>False</td>\n",
       "      <td>False</td>\n",
       "      <td>False</td>\n",
       "      <td>False</td>\n",
       "      <td>False</td>\n",
       "      <td>...</td>\n",
       "      <td>False</td>\n",
       "      <td>False</td>\n",
       "      <td>False</td>\n",
       "      <td>False</td>\n",
       "      <td>False</td>\n",
       "      <td>False</td>\n",
       "      <td>False</td>\n",
       "      <td>False</td>\n",
       "      <td>False</td>\n",
       "      <td>False</td>\n",
       "    </tr>\n",
       "    <tr>\n",
       "      <th>4</th>\n",
       "      <td>False</td>\n",
       "      <td>False</td>\n",
       "      <td>False</td>\n",
       "      <td>False</td>\n",
       "      <td>False</td>\n",
       "      <td>False</td>\n",
       "      <td>False</td>\n",
       "      <td>False</td>\n",
       "      <td>False</td>\n",
       "      <td>False</td>\n",
       "      <td>...</td>\n",
       "      <td>False</td>\n",
       "      <td>False</td>\n",
       "      <td>False</td>\n",
       "      <td>False</td>\n",
       "      <td>False</td>\n",
       "      <td>False</td>\n",
       "      <td>False</td>\n",
       "      <td>False</td>\n",
       "      <td>False</td>\n",
       "      <td>False</td>\n",
       "    </tr>\n",
       "    <tr>\n",
       "      <th>...</th>\n",
       "      <td>...</td>\n",
       "      <td>...</td>\n",
       "      <td>...</td>\n",
       "      <td>...</td>\n",
       "      <td>...</td>\n",
       "      <td>...</td>\n",
       "      <td>...</td>\n",
       "      <td>...</td>\n",
       "      <td>...</td>\n",
       "      <td>...</td>\n",
       "      <td>...</td>\n",
       "      <td>...</td>\n",
       "      <td>...</td>\n",
       "      <td>...</td>\n",
       "      <td>...</td>\n",
       "      <td>...</td>\n",
       "      <td>...</td>\n",
       "      <td>...</td>\n",
       "      <td>...</td>\n",
       "      <td>...</td>\n",
       "      <td>...</td>\n",
       "    </tr>\n",
       "    <tr>\n",
       "      <th>1456709</th>\n",
       "      <td>False</td>\n",
       "      <td>False</td>\n",
       "      <td>False</td>\n",
       "      <td>False</td>\n",
       "      <td>False</td>\n",
       "      <td>False</td>\n",
       "      <td>False</td>\n",
       "      <td>False</td>\n",
       "      <td>False</td>\n",
       "      <td>False</td>\n",
       "      <td>...</td>\n",
       "      <td>False</td>\n",
       "      <td>False</td>\n",
       "      <td>False</td>\n",
       "      <td>False</td>\n",
       "      <td>False</td>\n",
       "      <td>False</td>\n",
       "      <td>False</td>\n",
       "      <td>False</td>\n",
       "      <td>False</td>\n",
       "      <td>False</td>\n",
       "    </tr>\n",
       "    <tr>\n",
       "      <th>1456710</th>\n",
       "      <td>False</td>\n",
       "      <td>False</td>\n",
       "      <td>False</td>\n",
       "      <td>False</td>\n",
       "      <td>False</td>\n",
       "      <td>False</td>\n",
       "      <td>False</td>\n",
       "      <td>False</td>\n",
       "      <td>False</td>\n",
       "      <td>False</td>\n",
       "      <td>...</td>\n",
       "      <td>False</td>\n",
       "      <td>False</td>\n",
       "      <td>False</td>\n",
       "      <td>False</td>\n",
       "      <td>False</td>\n",
       "      <td>False</td>\n",
       "      <td>False</td>\n",
       "      <td>False</td>\n",
       "      <td>False</td>\n",
       "      <td>False</td>\n",
       "    </tr>\n",
       "    <tr>\n",
       "      <th>1456711</th>\n",
       "      <td>False</td>\n",
       "      <td>False</td>\n",
       "      <td>False</td>\n",
       "      <td>False</td>\n",
       "      <td>False</td>\n",
       "      <td>False</td>\n",
       "      <td>False</td>\n",
       "      <td>False</td>\n",
       "      <td>False</td>\n",
       "      <td>False</td>\n",
       "      <td>...</td>\n",
       "      <td>False</td>\n",
       "      <td>False</td>\n",
       "      <td>False</td>\n",
       "      <td>False</td>\n",
       "      <td>False</td>\n",
       "      <td>False</td>\n",
       "      <td>False</td>\n",
       "      <td>False</td>\n",
       "      <td>False</td>\n",
       "      <td>False</td>\n",
       "    </tr>\n",
       "    <tr>\n",
       "      <th>1456712</th>\n",
       "      <td>False</td>\n",
       "      <td>False</td>\n",
       "      <td>False</td>\n",
       "      <td>False</td>\n",
       "      <td>False</td>\n",
       "      <td>False</td>\n",
       "      <td>False</td>\n",
       "      <td>False</td>\n",
       "      <td>False</td>\n",
       "      <td>False</td>\n",
       "      <td>...</td>\n",
       "      <td>False</td>\n",
       "      <td>False</td>\n",
       "      <td>False</td>\n",
       "      <td>False</td>\n",
       "      <td>False</td>\n",
       "      <td>False</td>\n",
       "      <td>False</td>\n",
       "      <td>False</td>\n",
       "      <td>False</td>\n",
       "      <td>False</td>\n",
       "    </tr>\n",
       "    <tr>\n",
       "      <th>1456713</th>\n",
       "      <td>False</td>\n",
       "      <td>False</td>\n",
       "      <td>False</td>\n",
       "      <td>False</td>\n",
       "      <td>False</td>\n",
       "      <td>False</td>\n",
       "      <td>False</td>\n",
       "      <td>False</td>\n",
       "      <td>False</td>\n",
       "      <td>False</td>\n",
       "      <td>...</td>\n",
       "      <td>False</td>\n",
       "      <td>False</td>\n",
       "      <td>False</td>\n",
       "      <td>False</td>\n",
       "      <td>False</td>\n",
       "      <td>False</td>\n",
       "      <td>False</td>\n",
       "      <td>False</td>\n",
       "      <td>False</td>\n",
       "      <td>False</td>\n",
       "    </tr>\n",
       "  </tbody>\n",
       "</table>\n",
       "<p>1456714 rows × 23 columns</p>\n",
       "</div>"
      ],
      "text/plain": [
       "         Unnamed: 0     ID  Case Number   Date  Block   IUCR  Primary Type  \\\n",
       "0             False  False        False  False  False  False         False   \n",
       "1             False  False        False  False  False  False         False   \n",
       "2             False  False        False  False  False  False         False   \n",
       "3             False  False        False  False  False  False         False   \n",
       "4             False  False        False  False  False  False         False   \n",
       "...             ...    ...          ...    ...    ...    ...           ...   \n",
       "1456709       False  False        False  False  False  False         False   \n",
       "1456710       False  False        False  False  False  False         False   \n",
       "1456711       False  False        False  False  False  False         False   \n",
       "1456712       False  False        False  False  False  False         False   \n",
       "1456713       False  False        False  False  False  False         False   \n",
       "\n",
       "         Description  Location Description  Arrest  ...   Ward  \\\n",
       "0              False                 False   False  ...  False   \n",
       "1              False                 False   False  ...  False   \n",
       "2              False                 False   False  ...  False   \n",
       "3              False                 False   False  ...  False   \n",
       "4              False                 False   False  ...  False   \n",
       "...              ...                   ...     ...  ...    ...   \n",
       "1456709        False                 False   False  ...  False   \n",
       "1456710        False                 False   False  ...  False   \n",
       "1456711        False                 False   False  ...  False   \n",
       "1456712        False                 False   False  ...  False   \n",
       "1456713        False                 False   False  ...  False   \n",
       "\n",
       "         Community Area  FBI Code  X Coordinate  Y Coordinate   Year  \\\n",
       "0                 False     False         False         False  False   \n",
       "1                 False     False         False         False  False   \n",
       "2                 False     False         False         False  False   \n",
       "3                 False     False         False         False  False   \n",
       "4                 False     False         False         False  False   \n",
       "...                 ...       ...           ...           ...    ...   \n",
       "1456709           False     False         False         False  False   \n",
       "1456710           False     False         False         False  False   \n",
       "1456711           False     False         False         False  False   \n",
       "1456712           False     False         False         False  False   \n",
       "1456713           False     False         False         False  False   \n",
       "\n",
       "         Updated On  Latitude  Longitude  Location  \n",
       "0             False     False      False     False  \n",
       "1             False     False      False     False  \n",
       "2             False     False      False     False  \n",
       "3             False     False      False     False  \n",
       "4             False     False      False     False  \n",
       "...             ...       ...        ...       ...  \n",
       "1456709       False     False      False     False  \n",
       "1456710       False     False      False     False  \n",
       "1456711       False     False      False     False  \n",
       "1456712       False     False      False     False  \n",
       "1456713       False     False      False     False  \n",
       "\n",
       "[1456714 rows x 23 columns]"
      ]
     },
     "execution_count": 6,
     "metadata": {},
     "output_type": "execute_result"
    }
   ],
   "source": [
    "df.isnull()"
   ]
  },
  {
   "cell_type": "code",
   "execution_count": 6,
   "id": "7374faac",
   "metadata": {},
   "outputs": [],
   "source": [
    "drop = df.dropna()"
   ]
  },
  {
   "cell_type": "code",
   "execution_count": 7,
   "id": "ac6cad04",
   "metadata": {},
   "outputs": [
    {
     "name": "stdout",
     "output_type": "stream",
     "text": [
      "<class 'pandas.core.frame.DataFrame'>\n",
      "Int64Index: 1418365 entries, 0 to 1456713\n",
      "Data columns (total 23 columns):\n",
      " #   Column                Non-Null Count    Dtype  \n",
      "---  ------                --------------    -----  \n",
      " 0   Unnamed: 0            1418365 non-null  int64  \n",
      " 1   ID                    1418365 non-null  int64  \n",
      " 2   Case Number           1418365 non-null  object \n",
      " 3   Date                  1418365 non-null  object \n",
      " 4   Block                 1418365 non-null  object \n",
      " 5   IUCR                  1418365 non-null  object \n",
      " 6   Primary Type          1418365 non-null  object \n",
      " 7   Description           1418365 non-null  object \n",
      " 8   Location Description  1418365 non-null  object \n",
      " 9   Arrest                1418365 non-null  bool   \n",
      " 10  Domestic              1418365 non-null  bool   \n",
      " 11  Beat                  1418365 non-null  int64  \n",
      " 12  District              1418365 non-null  float64\n",
      " 13  Ward                  1418365 non-null  float64\n",
      " 14  Community Area        1418365 non-null  float64\n",
      " 15  FBI Code              1418365 non-null  object \n",
      " 16  X Coordinate          1418365 non-null  float64\n",
      " 17  Y Coordinate          1418365 non-null  float64\n",
      " 18  Year                  1418365 non-null  int64  \n",
      " 19  Updated On            1418365 non-null  object \n",
      " 20  Latitude              1418365 non-null  float64\n",
      " 21  Longitude             1418365 non-null  float64\n",
      " 22  Location              1418365 non-null  object \n",
      "dtypes: bool(2), float64(7), int64(4), object(10)\n",
      "memory usage: 240.8+ MB\n"
     ]
    }
   ],
   "source": [
    "drop.info()"
   ]
  },
  {
   "cell_type": "code",
   "execution_count": 8,
   "id": "bfb6d62c",
   "metadata": {},
   "outputs": [],
   "source": [
    "data_new['Date'] = pd.to_datetime(data_new.Date,format='%m/%d/%Y %I:%M:%S %p') \n",
    "df['Date']=  pd.to_datetime(df.Date,format='%m/%d/%Y %I:%M:%S %p')"
   ]
  },
  {
   "cell_type": "code",
   "execution_count": 9,
   "id": "d4867429",
   "metadata": {},
   "outputs": [],
   "source": [
    "for i in (data_new,df):\n",
    "    i['year']=i.Date.dt.year \n",
    "    i['month']=i.Date.dt.month \n",
    "    i['day']=i.Date.dt.day\n",
    "    i['Hour']=i.Date.dt.hour "
   ]
  },
  {
   "cell_type": "markdown",
   "id": "26c33f53",
   "metadata": {},
   "source": [
    "# 4. Which are the top 5 or 10 crimes that occurred in the city.?"
   ]
  },
  {
   "cell_type": "code",
   "execution_count": 15,
   "id": "09c2f066",
   "metadata": {},
   "outputs": [
    {
     "data": {
      "text/plain": [
       "['THEFT', 'BATTERY', 'CRIMINAL DAMAGE', 'NARCOTICS', 'ASSAULT']"
      ]
     },
     "execution_count": 15,
     "metadata": {},
     "output_type": "execute_result"
    }
   ],
   "source": [
    "data_new['Primary Type'].value_counts().index.tolist()[:5]"
   ]
  },
  {
   "cell_type": "code",
   "execution_count": 17,
   "id": "06dd01ff",
   "metadata": {},
   "outputs": [
    {
     "data": {
      "text/plain": [
       "['THEFT',\n",
       " 'BATTERY',\n",
       " 'CRIMINAL DAMAGE',\n",
       " 'NARCOTICS',\n",
       " 'ASSAULT',\n",
       " 'OTHER OFFENSE',\n",
       " 'BURGLARY',\n",
       " 'DECEPTIVE PRACTICE',\n",
       " 'MOTOR VEHICLE THEFT',\n",
       " 'ROBBERY']"
      ]
     },
     "execution_count": 17,
     "metadata": {},
     "output_type": "execute_result"
    }
   ],
   "source": [
    "data_new['Primary Type'].value_counts().index.tolist()[:10]"
   ]
  },
  {
   "cell_type": "markdown",
   "id": "03e8f380",
   "metadata": {},
   "source": [
    "# 5. Can you visualize the frequencies of the top 5 or 10 crimes a year?"
   ]
  },
  {
   "cell_type": "code",
   "execution_count": 20,
   "id": "80ef98fd",
   "metadata": {},
   "outputs": [
    {
     "data": {
      "text/plain": [
       "<AxesSubplot:>"
      ]
     },
     "execution_count": 20,
     "metadata": {},
     "output_type": "execute_result"
    },
    {
     "data": {
      "image/png": "[encoded data removed]",
      "text/plain": [
       "<Figure size 432x288 with 1 Axes>"
      ]
     },
     "metadata": {
      "needs_background": "light"
     },
     "output_type": "display_data"
    }
   ],
   "source": [
    "top5 = data_new['Primary Type'].value_counts()[:5]\n",
    "top5.plot(kind='bar')"
   ]
  },
  {
   "cell_type": "code",
   "execution_count": 21,
   "id": "a28c86ee",
   "metadata": {},
   "outputs": [
    {
     "data": {
      "text/plain": [
       "<AxesSubplot:>"
      ]
     },
     "execution_count": 21,
     "metadata": {},
     "output_type": "execute_result"
    },
    {
     "data": {
      "image/png": "[encoded data removed]",
      "text/plain": [
       "<Figure size 432x288 with 1 Axes>"
      ]
     },
     "metadata": {
      "needs_background": "light"
     },
     "output_type": "display_data"
    }
   ],
   "source": [
    "top10 = data_new['Primary Type'].value_counts()[:10]\n",
    "top10.plot(kind='bar')"
   ]
  },
  {
   "cell_type": "markdown",
   "id": "9ea23f2b",
   "metadata": {},
   "source": [
    "# 6. What is the arrest rate for \"Narcotics\" crimes?"
   ]
  },
  {
   "cell_type": "code",
   "execution_count": 22,
   "id": "1288df6d",
   "metadata": {},
   "outputs": [
    {
     "name": "stdout",
     "output_type": "stream",
     "text": [
      "135240 134317\n",
      "Arrest rate is 99.31750961254066%\n"
     ]
    }
   ],
   "source": [
    "nc = 0\n",
    "ac = 0\n",
    "f =open(path)\n",
    "data = csv.reader(f)\n",
    "header =next(data)\n",
    "for row in data :\n",
    "    if(row[6] == 'NARCOTICS'):\n",
    "       nc += 1\n",
    "       if(str(row[9]) == 'True'):\n",
    "            ac += 1\n",
    "            \n",
    "print(nc, ac)\n",
    "x = ac/nc * 100\n",
    "print(\"Arrest rate is \" + str(x)+ \"%\")"
   ]
  },
  {
   "cell_type": "markdown",
   "id": "919f32c4",
   "metadata": {},
   "source": [
    "# 7. Which are the top 3 months with more crimes during a year?"
   ]
  },
  {
   "cell_type": "code",
   "execution_count": 25,
   "id": "d6f649a9",
   "metadata": {},
   "outputs": [
    {
     "data": {
      "text/plain": [
       "<AxesSubplot:>"
      ]
     },
     "execution_count": 25,
     "metadata": {},
     "output_type": "execute_result"
    },
    {
     "data": {
      "image/png": "[encoded data removed]",
      "text/plain": [
       "<Figure size 432x288 with 1 Axes>"
      ]
     },
     "metadata": {
      "needs_background": "light"
     },
     "output_type": "display_data"
    }
   ],
   "source": [
    "top_3month = data_new['month'].value_counts()[:3]\n",
    "top_3month.plot(kind='bar')"
   ]
  },
  {
   "cell_type": "markdown",
   "id": "7fc480d7",
   "metadata": {},
   "source": [
    "# 8. When do crimes happen less during the days? (Fewer crime times during the days)"
   ]
  },
  {
   "cell_type": "code",
   "execution_count": 26,
   "id": "7c8c86d1",
   "metadata": {},
   "outputs": [
    {
     "data": {
      "text/plain": [
       "<AxesSubplot:>"
      ]
     },
     "execution_count": 26,
     "metadata": {},
     "output_type": "execute_result"
    },
    {
     "data": {
      "image/png": "[encoded data removed]",
      "text/plain": [
       "<Figure size 432x288 with 1 Axes>"
      ]
     },
     "metadata": {
      "needs_background": "light"
     },
     "output_type": "display_data"
    }
   ],
   "source": [
    "#daily crime rate\n",
    "data_new['day'].value_counts().plot(kind='bar')"
   ]
  },
  {
   "cell_type": "code",
   "execution_count": 13,
   "id": "e2a443c9",
   "metadata": {},
   "outputs": [
    {
     "data": {
      "text/plain": [
       "<AxesSubplot:>"
      ]
     },
     "execution_count": 13,
     "metadata": {},
     "output_type": "execute_result"
    },
    {
     "data": {
      "image/png": "[encoded data removed]",
      "text/plain": [
       "<Figure size 432x288 with 1 Axes>"
      ]
     },
     "metadata": {
      "needs_background": "light"
     },
     "output_type": "display_data"
    }
   ],
   "source": [
    "#hourly crime rate\n",
    "data_new['Hour'].value_counts(ascending=True).plot(kind='bar')"
   ]
  },
  {
   "cell_type": "markdown",
   "id": "5bacfc4f",
   "metadata": {},
   "source": [
    "# 9. How does sunset effects to increasing/descreasing number of crimes?"
   ]
  },
  {
   "cell_type": "code",
   "execution_count": 17,
   "id": "223b0197",
   "metadata": {},
   "outputs": [],
   "source": [
    "after_sunset = data_new[data_new['Hour']>16]['Hour'].value_counts(ascending=True).sum()\n",
    "before_sunset = data_new[data_new['Hour']<17]['Hour'].value_counts(ascending=True).sum()"
   ]
  },
  {
   "cell_type": "code",
   "execution_count": 18,
   "id": "e24e45a6",
   "metadata": {},
   "outputs": [
    {
     "data": {
      "image/png": "[encoded data removed]",
      "text/plain": [
       "<Figure size 432x288 with 1 Axes>"
      ]
     },
     "metadata": {
      "needs_background": "light"
     },
     "output_type": "display_data"
    }
   ],
   "source": [
    "fig = plt.figure()\n",
    "ax = fig.add_axes([0,0,1,1])\n",
    "time = ['Before Sunset', 'After Sunset']\n",
    "amount = [before_sunset, after_sunset]\n",
    "ax.bar(time,amount)\n",
    "ax.set_title('Sunset afection to number of crimes')\n",
    "plt.show()"
   ]
  },
  {
   "cell_type": "markdown",
   "id": "7ce80ea5",
   "metadata": {},
   "source": [
    "# 10. Can you visualize any crime in any district?"
   ]
  },
  {
   "cell_type": "code",
   "execution_count": 20,
   "id": "5685fb37",
   "metadata": {},
   "outputs": [
    {
     "data": {
      "text/plain": [
       "<AxesSubplot:xlabel='year,Primary Type'>"
      ]
     },
     "execution_count": 20,
     "metadata": {},
     "output_type": "execute_result"
    },
    {
     "data": {
      "image/png": "[encoded data removed]",
      "text/plain": [
       "<Figure size 432x288 with 1 Axes>"
      ]
     },
     "metadata": {
      "needs_background": "light"
     },
     "output_type": "display_data"
    }
   ],
   "source": [
    "dist_name = data_new[data_new['District']==8.0]\n",
    "crime_type = data_new[data_new['Primary Type']=='ASSAULT']\n",
    "year = crime_type.year\n",
    "crime_type.groupby(['year'])['Primary Type'].value_counts().plot(kind='bar')"
   ]
  },
  {
   "cell_type": "markdown",
   "id": "3912aaca",
   "metadata": {},
   "source": [
    "# 11. Top 3 dangerous district in Chicago?"
   ]
  },
  {
   "cell_type": "code",
   "execution_count": 23,
   "id": "86294ddc",
   "metadata": {},
   "outputs": [
    {
     "data": {
      "text/plain": [
       "<AxesSubplot:>"
      ]
     },
     "execution_count": 23,
     "metadata": {},
     "output_type": "execute_result"
    },
    {
     "data": {
      "image/png": "[encoded data removed]",
      "text/plain": [
       "<Figure size 432x288 with 1 Axes>"
      ]
     },
     "metadata": {
      "needs_background": "light"
     },
     "output_type": "display_data"
    }
   ],
   "source": [
    "data_new['District'].value_counts().head(3).plot(kind='bar')"
   ]
  }
 ],
 "metadata": {
  "kernelspec": {
   "display_name": "Python 3",
   "language": "python",
   "name": "python3"
  },
  "language_info": {
   "codemirror_mode": {
    "name": "ipython",
    "version": 3
   },
   "file_extension": ".py",
   "mimetype": "text/x-python",
   "name": "python",
   "nbconvert_exporter": "python",
   "pygments_lexer": "ipython3",
   "version": "3.9.2"
  }
 },
 "nbformat": 4,
 "nbformat_minor": 5
}
